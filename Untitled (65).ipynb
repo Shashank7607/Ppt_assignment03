{
 "cells": [
  {
   "cell_type": "code",
   "execution_count": 1,
   "id": "ab5eadb1-0d23-41dd-a5d6-2a6224c63caa",
   "metadata": {},
   "outputs": [],
   "source": [
    "#Ans 1"
   ]
  },
  {
   "cell_type": "code",
   "execution_count": 12,
   "id": "ce6d63c9-369e-4f92-99ee-3f0ddb6ccbc0",
   "metadata": {},
   "outputs": [],
   "source": [
    "def threeSumClosest(nums, target):\n",
    "    nums.sort()\n",
    "    n = len(nums)\n",
    "    closestSum = float('inf')\n",
    "\n",
    "    for i in range(n - 2):\n",
    "        left = i + 1\n",
    "        right = n - 1\n",
    "\n",
    "        while left < right:\n",
    "            currentSum = nums[i] + nums[left] + nums[right]\n",
    "            \n",
    "            if currentSum == target:\n",
    "                return currentSum\n",
    "\n",
    "            if abs(currentSum - target) < abs(closestSum - target):\n",
    "                closestSum = currentSum\n",
    "\n",
    "            if currentSum < target:\n",
    "                left += 1\n",
    "            else:\n",
    "                right -= 1\n",
    "\n",
    "    return closestSum\n"
   ]
  },
  {
   "cell_type": "code",
   "execution_count": 22,
   "id": "b06af49f-23d8-42e7-867c-71041cb664ac",
   "metadata": {},
   "outputs": [
    {
     "name": "stdout",
     "output_type": "stream",
     "text": [
      "2\n"
     ]
    }
   ],
   "source": [
    "nums = [-1, 2, 1, -4]\n",
    "target = 1\n",
    "\n",
    "result = threeSumClosest(nums, target)\n",
    "print(result) \n"
   ]
  },
  {
   "cell_type": "code",
   "execution_count": 14,
   "id": "142d93ba-cd4d-4bcb-8d32-58ba83f45d36",
   "metadata": {},
   "outputs": [],
   "source": [
    "#Ans 2"
   ]
  },
  {
   "cell_type": "code",
   "execution_count": 26,
   "id": "cbb1719c-deff-40e6-9e42-4867f1316cd9",
   "metadata": {},
   "outputs": [],
   "source": [
    "def fourSum(nums, target):\n",
    "    nums.sort()\n",
    "    n = len(nums)\n",
    "    result = []\n",
    "\n",
    "    for i in range(n - 3):\n",
    "        if i > 0 and nums[i] == nums[i - 1]:\n",
    "            continue\n",
    "\n",
    "        for j in range(i + 1, n - 2):\n",
    "            if j > i + 1 and nums[j] == nums[j - 1]:\n",
    "                continue\n",
    "\n",
    "            left = j + 1\n",
    "            right = n - 1\n",
    "\n",
    "            while left < right:\n",
    "                currentSum = nums[i] + nums[j] + nums[left] + nums[right]\n",
    "\n",
    "                if currentSum == target:\n",
    "                    result.append([nums[i], nums[j], nums[left], nums[right]])\n",
    "                    left += 1\n",
    "                    right -= 1\n",
    "\n",
    "                    while left < right and nums[left] == nums[left - 1]:\n",
    "                        left += 1\n",
    "\n",
    "                    while left < right and nums[right] == nums[right + 1]:\n",
    "                        right -= 1\n",
    "\n",
    "                elif currentSum < target:\n",
    "                    left += 1\n",
    "                else:\n",
    "                    right -= 1\n",
    "\n",
    "    return result\n"
   ]
  },
  {
   "cell_type": "code",
   "execution_count": 27,
   "id": "f60f2b23-ff05-4abc-bb23-82ce462b9a92",
   "metadata": {},
   "outputs": [
    {
     "name": "stdout",
     "output_type": "stream",
     "text": [
      "[[-2, -1, 1, 2], [-2, 0, 0, 2], [-1, 0, 0, 1]]\n"
     ]
    }
   ],
   "source": [
    "nums = [1, 0, -1, 0, -2, 2]\n",
    "target = 0\n",
    "\n",
    "result = fourSum(nums, target)\n",
    "print(result) \n"
   ]
  },
  {
   "cell_type": "code",
   "execution_count": 28,
   "id": "e4aea32d-8f83-4500-90e4-0c7d00e2a14b",
   "metadata": {},
   "outputs": [],
   "source": [
    "#Ans 3"
   ]
  },
  {
   "cell_type": "code",
   "execution_count": 37,
   "id": "6191bfd5-0621-4429-a7d4-b0191a9ee033",
   "metadata": {},
   "outputs": [],
   "source": [
    "def nextPermutation(nums):\n",
    "    # Find the first pair (i, i+1) from the right where nums[i] < nums[i+1]\n",
    "    i = len(nums) - 2\n",
    "    while i >= 0 and nums[i] >= nums[i+1]:\n",
    "        i -= 1\n",
    "\n",
    "    if i == -1:\n",
    "        # If the array is sorted in non-increasing order, reverse the entire array\n",
    "        nums.reverse()\n",
    "    else:\n",
    "        # Find the smallest element in the suffix that is larger than nums[i]\n",
    "        j = len(nums) - 1\n",
    "        while j > i and nums[j] <= nums[i]:\n",
    "            j -= 1\n",
    "\n",
    "        # Swap nums[i] and nums[j]\n",
    "        nums[i], nums[j] = nums[j], nums[i]\n",
    "\n",
    "        # Reverse the suffix\n",
    "        left, right = i + 1, len(nums) - 1\n",
    "        while left < right:\n",
    "            nums[left], nums[right] = nums[right], nums[left]\n",
    "            left += 1\n",
    "            right -= 1\n",
    "\n",
    "    return nums\n"
   ]
  },
  {
   "cell_type": "code",
   "execution_count": 38,
   "id": "4f901b04-0724-4131-8fbc-d1c3534ebd7f",
   "metadata": {},
   "outputs": [
    {
     "name": "stdout",
     "output_type": "stream",
     "text": [
      "[1, 3, 2]\n"
     ]
    }
   ],
   "source": [
    "nums = [1, 2, 3]\n",
    "result = nextPermutation(nums)\n",
    "print(result)  \n"
   ]
  },
  {
   "cell_type": "code",
   "execution_count": 39,
   "id": "e7e1cd22-30f7-4d59-88c1-8a8e89226159",
   "metadata": {},
   "outputs": [],
   "source": [
    "#Ans 4"
   ]
  },
  {
   "cell_type": "code",
   "execution_count": 48,
   "id": "9dbe56c1-8eb3-4bc4-8d64-0807e26533e5",
   "metadata": {},
   "outputs": [],
   "source": [
    "def searchInsert(nums, target):\n",
    "    left = 0\n",
    "    right = len(nums) - 1\n",
    "\n",
    "    while left <= right:\n",
    "        mid = (left + right) // 2\n",
    "\n",
    "        if nums[mid] == target:\n",
    "            return mid\n",
    "        elif nums[mid] < target:\n",
    "            left = mid + 1\n",
    "        else:\n",
    "            right = mid - 1\n",
    "\n",
    "    return left\n"
   ]
  },
  {
   "cell_type": "code",
   "execution_count": 49,
   "id": "65b9ebe4-6ebc-4c01-8714-9f57fb75aae1",
   "metadata": {},
   "outputs": [
    {
     "name": "stdout",
     "output_type": "stream",
     "text": [
      "2\n"
     ]
    }
   ],
   "source": [
    "nums = [1, 3, 5, 6]\n",
    "target = 5\n",
    "\n",
    "result = searchInsert(nums, target)\n",
    "print(result)  # Output: 2\n"
   ]
  },
  {
   "cell_type": "code",
   "execution_count": 50,
   "id": "bdd3efbb-b39a-47e5-a8b0-e9d88028a4dd",
   "metadata": {},
   "outputs": [],
   "source": [
    "#Ans 5"
   ]
  },
  {
   "cell_type": "code",
   "execution_count": 59,
   "id": "7205e2f3-a693-48d7-bcbf-5065ac2f387f",
   "metadata": {},
   "outputs": [],
   "source": [
    "def plusOne(digits):\n",
    "    carry = 1\n",
    "    n = len(digits)\n",
    "\n",
    "    for i in range(n - 1, -1, -1):\n",
    "        digit_sum = digits[i] + carry\n",
    "        digits[i] = digit_sum % 10\n",
    "        carry = digit_sum // 10\n",
    "\n",
    "        if carry == 0:\n",
    "            break\n",
    "\n",
    "    if carry > 0:\n",
    "        digits.insert(0, carry)\n",
    "\n",
    "    return digits\n"
   ]
  },
  {
   "cell_type": "code",
   "execution_count": 62,
   "id": "37d169ef-e499-4f45-9eef-d76ec070c2f1",
   "metadata": {},
   "outputs": [
    {
     "name": "stdout",
     "output_type": "stream",
     "text": [
      "[1, 2, 4]\n"
     ]
    }
   ],
   "source": [
    "digits = [1, 2, 3]\n",
    "result = plusOne(digits)\n",
    "print(result)  \n"
   ]
  },
  {
   "cell_type": "code",
   "execution_count": 63,
   "id": "a912cfd7-1aeb-455a-a6ba-67bb1f6c13ab",
   "metadata": {},
   "outputs": [],
   "source": [
    "#Ans 6"
   ]
  },
  {
   "cell_type": "code",
   "execution_count": 69,
   "id": "8310735d-6396-4cbb-9ee7-7b4b08f5f144",
   "metadata": {},
   "outputs": [],
   "source": [
    "def singleNumber(nums):\n",
    "    result = 0\n",
    "\n",
    "    for num in nums:\n",
    "        result ^= num\n",
    "\n",
    "    return result\n"
   ]
  },
  {
   "cell_type": "code",
   "execution_count": 70,
   "id": "2099782c-bc0c-4081-b7f9-52ce612bd801",
   "metadata": {},
   "outputs": [
    {
     "name": "stdout",
     "output_type": "stream",
     "text": [
      "1\n"
     ]
    }
   ],
   "source": [
    "nums = [2, 2, 1]\n",
    "result = singleNumber(nums)\n",
    "print(result)  # Output: 1\n"
   ]
  },
  {
   "cell_type": "code",
   "execution_count": 71,
   "id": "d52ed077-0880-4938-9feb-503e366859ae",
   "metadata": {},
   "outputs": [],
   "source": [
    "#Ans 7"
   ]
  },
  {
   "cell_type": "code",
   "execution_count": 78,
   "id": "67defd49-639b-4ca3-8209-eda5bdf94058",
   "metadata": {},
   "outputs": [],
   "source": [
    "def findMissingRanges(nums, lower, upper):\n",
    "    result = []\n",
    "    prev = lower - 1\n",
    "\n",
    "    for num in nums:\n",
    "        if num > prev + 1:\n",
    "            result.append([prev + 1, num - 1])\n",
    "        prev = num\n",
    "\n",
    "    if prev < upper:\n",
    "        result.append([prev + 1, upper])\n",
    "\n",
    "    return result\n"
   ]
  },
  {
   "cell_type": "code",
   "execution_count": 81,
   "id": "2321d64e-6f2a-4be0-975a-549c49a2c474",
   "metadata": {},
   "outputs": [
    {
     "name": "stdout",
     "output_type": "stream",
     "text": [
      "[[2, 2], [4, 49], [51, 74], [76, 99]]\n"
     ]
    }
   ],
   "source": [
    "nums = [0, 1, 3, 50, 75]\n",
    "lower = 0\n",
    "upper = 99\n",
    "result = findMissingRanges(nums, lower, upper)\n",
    "print(result)  \n"
   ]
  },
  {
   "cell_type": "code",
   "execution_count": null,
   "id": "67eb1923-a21b-4b04-8e0f-147751243734",
   "metadata": {},
   "outputs": [],
   "source": []
  }
 ],
 "metadata": {
  "kernelspec": {
   "display_name": "Python 3 (ipykernel)",
   "language": "python",
   "name": "python3"
  },
  "language_info": {
   "codemirror_mode": {
    "name": "ipython",
    "version": 3
   },
   "file_extension": ".py",
   "mimetype": "text/x-python",
   "name": "python",
   "nbconvert_exporter": "python",
   "pygments_lexer": "ipython3",
   "version": "3.10.8"
  }
 },
 "nbformat": 4,
 "nbformat_minor": 5
}
